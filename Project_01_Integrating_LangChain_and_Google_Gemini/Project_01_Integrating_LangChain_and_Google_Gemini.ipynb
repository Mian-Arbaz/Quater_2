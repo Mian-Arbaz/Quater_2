{
  "nbformat": 4,
  "nbformat_minor": 0,
  "metadata": {
    "colab": {
      "provenance": [],
      "authorship_tag": "ABX9TyMYJULl6jGONMttB7BpHHaU",
      "include_colab_link": true
    },
    "kernelspec": {
      "name": "python3",
      "display_name": "Python 3"
    },
    "language_info": {
      "name": "python"
    }
  },
  "cells": [
    {
      "cell_type": "markdown",
      "metadata": {
        "id": "view-in-github",
        "colab_type": "text"
      },
      "source": [
        "<a href=\"https://colab.research.google.com/github/rumorArbaz/Quater_2/blob/main/Project_01_Integrating_LangChain_and_Google_Gemini.ipynb\" target=\"_parent\"><img src=\"https://colab.research.google.com/assets/colab-badge.svg\" alt=\"Open In Colab\"/></a>"
      ]
    },
    {
      "cell_type": "code",
      "source": [
        "from google.colab import userdata\n",
        "Gemini_Api_key = userdata.get('GOOGLE_API_KEY_1')"
      ],
      "metadata": {
        "id": "_32a0kgZyBjS"
      },
      "execution_count": 1,
      "outputs": []
    },
    {
      "cell_type": "code",
      "source": [
        "!pip install -q -U langchain_google_genai"
      ],
      "metadata": {
        "colab": {
          "base_uri": "https://localhost:8080/"
        },
        "id": "6P0GgZPfyYl-",
        "outputId": "22ef78ac-e306-447c-b40b-a8c077226a1a"
      },
      "execution_count": 2,
      "outputs": [
        {
          "output_type": "stream",
          "name": "stdout",
          "text": [
            "\u001b[?25l   \u001b[90m━━━━━━━━━━━━━━━━━━━━━━━━━━━━━━━━━━━━━━━━\u001b[0m \u001b[32m0.0/41.3 kB\u001b[0m \u001b[31m?\u001b[0m eta \u001b[36m-:--:--\u001b[0m\r\u001b[2K   \u001b[90m━━━━━━━━━━━━━━━━━━━━━━━━━━━━━━━━━━━━━━━━\u001b[0m \u001b[32m41.3/41.3 kB\u001b[0m \u001b[31m2.7 MB/s\u001b[0m eta \u001b[36m0:00:00\u001b[0m\n",
            "\u001b[?25h"
          ]
        }
      ]
    },
    {
      "cell_type": "code",
      "source": [
        "from langchain_google_genai import ChatGoogleGenerativeAI"
      ],
      "metadata": {
        "id": "NwIb0TlSyspz"
      },
      "execution_count": 3,
      "outputs": []
    },
    {
      "cell_type": "code",
      "source": [
        "llm = ChatGoogleGenerativeAI(\n",
        "    api_key= Gemini_Api_key,\n",
        "    model = \"gemini-1.5-flash\",\n",
        "    temperature=0.7,\n",
        "    token= 100\n",
        ")"
      ],
      "metadata": {
        "id": "duqeci2ny5zs"
      },
      "execution_count": 4,
      "outputs": []
    },
    {
      "source": [
        "response = llm.invoke(\"What is JF-17 Thunder? give me its developed history with crafts model?\")\n",
        "\n",
        "if response:\n",
        "    paragraph_response = \" \".join(response.content.split())\n",
        "    print(paragraph_response)\n",
        "else:\n",
        "    print(\"No response received.\")"
      ],
      "cell_type": "code",
      "metadata": {
        "colab": {
          "base_uri": "https://localhost:8080/"
        },
        "id": "ilA-zIaHYYQP",
        "outputId": "38c6fb03-66b1-4ca2-ae3d-9d369ffa297f"
      },
      "execution_count": 13,
      "outputs": [
        {
          "output_type": "stream",
          "name": "stdout",
          "text": [
            "The JF-17 Thunder (also known as the FC-1 Xiaolong) is a lightweight, single-engine, multirole combat aircraft jointly developed by Pakistan and China. It's a significant achievement for both countries, marking a milestone in their respective aerospace industries. **Development History:** The JF-17's origins lie in the 1980s and 1990s when Pakistan sought a modern, affordable fighter to replace its aging fleet. Initially, Pakistan explored collaborations with various Western countries, but these efforts proved unsuccessful due to various political and technological hurdles. This led Pakistan to turn to China for a collaborative project. * **Early Stages (1990s-early 2000s):** The project officially began in the late 1990s, with both countries pooling resources and expertise. The design was heavily influenced by existing Chinese technology, particularly the Chengdu J-7, but incorporated many new features and technologies. The initial design phase involved extensive modeling, simulations, and wind tunnel testing. * **Prototype and Testing (early 2000s-mid 2000s):** The first prototype, designated as the JF-17, conducted its maiden flight in 2003. Subsequent prototypes underwent rigorous flight testing to evaluate performance, stability, and systems integration. This phase involved extensive data gathering and modifications based on test results. * **Production and Refinement (mid 2000s-present):** Serial production began in the mid-2000s, with the Pakistan Air Force (PAF) being the first operator. Since then, the JF-17 has undergone continuous improvements and upgrades, resulting in several blocks or variants with enhanced capabilities. These upgrades include improved avionics, weapons systems, and radar. **Craft Models/Variants:** The JF-17 has evolved through several blocks or variants, each representing a significant upgrade in capabilities: * **Block I:** The initial production variant, featuring basic avionics and a limited weapons payload. * **Block II:** Introduced significant improvements, including an enhanced KLJ-7 radar, improved avionics, and an expanded weapons capability. * **Block III:** This is the most advanced variant currently in service. Key improvements include an advanced AESA (Active Electronically Scanned Array) radar, improved sensors, increased weapons payload, and enhanced electronic warfare capabilities. It also features a more powerful engine. * **Future Variants:** Development continues, with ongoing efforts to further improve the aircraft's performance, stealth capabilities, and integration of new weapons and technologies. There's ongoing speculation about potential future blocks incorporating more advanced sensors, possibly even fifth-generation fighter characteristics. It's important to note that the exact details of the JF-17's development and the capabilities of each block are not always publicly available due to the sensitive military nature of the project. Information often comes from official statements, leaked documents, and open-source intelligence analysis.\n"
          ]
        }
      ]
    }
  ]
}
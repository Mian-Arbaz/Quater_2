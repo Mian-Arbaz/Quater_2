{
  "nbformat": 4,
  "nbformat_minor": 0,
  "metadata": {
    "colab": {
      "provenance": [],
      "authorship_tag": "ABX9TyPsM1244b2Wb50GYX6vddDi",
      "include_colab_link": true
    },
    "kernelspec": {
      "name": "python3",
      "display_name": "Python 3"
    },
    "language_info": {
      "name": "python"
    }
  },
  "cells": [
    {
      "cell_type": "markdown",
      "metadata": {
        "id": "view-in-github",
        "colab_type": "text"
      },
      "source": [
        "<a href=\"https://colab.research.google.com/github/rumorArbaz/Quater_2/blob/main/Assignment_05_Gemini_2_0_Video_and_Audio_Analysis_.ipynb\" target=\"_parent\"><img src=\"https://colab.research.google.com/assets/colab-badge.svg\" alt=\"Open In Colab\"/></a>"
      ]
    },
    {
      "cell_type": "code",
      "execution_count": 1,
      "metadata": {
        "id": "iX-MRfrHAOql"
      },
      "outputs": [],
      "source": [
        "!pip install -U -q google-genai"
      ]
    },
    {
      "cell_type": "code",
      "source": [
        "!pip install gtts -q"
      ],
      "metadata": {
        "id": "M4g5DKCyA5Of"
      },
      "execution_count": 2,
      "outputs": []
    },
    {
      "cell_type": "code",
      "source": [
        "!pip install playsound -q"
      ],
      "metadata": {
        "colab": {
          "base_uri": "https://localhost:8080/"
        },
        "id": "ulbwaF7CA_Uq",
        "outputId": "57c63a92-3edd-49a2-b824-e3a7833a1648"
      },
      "execution_count": 4,
      "outputs": [
        {
          "output_type": "stream",
          "name": "stdout",
          "text": [
            "  Preparing metadata (setup.py) ... \u001b[?25l\u001b[?25hdone\n",
            "  Building wheel for playsound (setup.py) ... \u001b[?25l\u001b[?25hdone\n"
          ]
        }
      ]
    },
    {
      "cell_type": "code",
      "source": [
        "from google.colab import userdata\n",
        "GEMINI_VADIO_API: str = userdata.get('GEMINI_VADIO_API')\n",
        "if(GEMINI_VADIO_API):\n",
        "  print('API KEY FOUND')\n",
        "else:\n",
        "  print('API KEY NOT FOUND')\n"
      ],
      "metadata": {
        "colab": {
          "base_uri": "https://localhost:8080/"
        },
        "id": "pNCspgVDCt4v",
        "outputId": "a837cad3-ba5e-48f7-823c-0c280c65e839"
      },
      "execution_count": 20,
      "outputs": [
        {
          "output_type": "stream",
          "name": "stdout",
          "text": [
            "API KEY FOUND\n"
          ]
        }
      ]
    },
    {
      "cell_type": "code",
      "source": [
        "from google import genai\n",
        "from google.genai import Client\n",
        "\n",
        "client: Client = genai.Client(\n",
        "  api_key=GEMINI_VADIO_API\n",
        ")\n",
        "\n",
        "model: str = \"gemini-2.0-flash-exp\""
      ],
      "metadata": {
        "id": "jChoB7H-DL4X"
      },
      "execution_count": 21,
      "outputs": []
    },
    {
      "cell_type": "code",
      "source": [
        "video_name = \"/content/video clip.mp4\""
      ],
      "metadata": {
        "id": "wpGbcitiEOFS"
      },
      "execution_count": 22,
      "outputs": []
    },
    {
      "cell_type": "code",
      "source": [
        "import time\n",
        "\n",
        "def upload_video(video_name):\n",
        "  video_file = client.files.upload(path = video_name)\n",
        "  while video_file.state == \"pending\":\n",
        "    time.sleep(10)\n",
        "    video_file = client.files.get(name=video_file.name or \"\")\n",
        "\n",
        "  if video_file.state == \"FAILED\":\n",
        "    raise ValueError(video_file.state)\n",
        "  print(f\"Vadio processing complete:\" + (video_file.uri or \"\"))\n",
        "\n",
        "  return video_file\n",
        "\n",
        "my_video = upload_video(video_name)"
      ],
      "metadata": {
        "colab": {
          "base_uri": "https://localhost:8080/"
        },
        "id": "95aulm4aFcjy",
        "outputId": "38251c5c-16a8-4474-fe60-599d38f1f4e4"
      },
      "execution_count": 24,
      "outputs": [
        {
          "output_type": "stream",
          "name": "stdout",
          "text": [
            "Vadio processing complete:https://generativelanguage.googleapis.com/v1beta/files/ey921k7rycgj\n"
          ]
        }
      ]
    },
    {
      "cell_type": "code",
      "source": [
        "from google.genai.types import Content, Part\n",
        "prompt = \"\"\"For each scene in this video, generate caption that discribe the scene with spoken text.\n",
        "Place each caption into an object with timecode of caption vadio.\n",
        "\"\"\"\n",
        "\n",
        "video = my_video\n",
        "\n",
        "response = client.models.generate_content(\n",
        "    model = model,\n",
        "    contents =[\n",
        "        Content(\n",
        "            role= \"user\",\n",
        "            parts= [\n",
        "                Part(text=prompt),\n",
        "                Part.from_uri(file_uri=video.uri or \"\", mime_type=video.mime_type or \"\")\n",
        "            ]\n",
        "               )\n",
        "]\n",
        ")\n",
        "print(response.text)"
      ],
      "metadata": {
        "colab": {
          "base_uri": "https://localhost:8080/"
        },
        "id": "JOCLi6tEGuOz",
        "outputId": "470cfccc-8ee3-4017-c60f-a8d572725901"
      },
      "execution_count": 31,
      "outputs": [
        {
          "output_type": "stream",
          "name": "stdout",
          "text": [
            "```json\n",
            "[\n",
            "  {\n",
            "    \"timecode\": \"00:00\",\n",
            "    \"text\": \"The video begins with a view of an outdoor space at night, decorated with string lights. Several blurred figures can be seen moving about in the background. The camera seems to be moving.\"\n",
            "  },\n",
            "  {\n",
            "    \"timecode\": \"00:01\",\n",
            "    \"text\": \"The camera shifts perspective, still outside, with the string lights overhead. People continue to mill about, though slightly more visible.\"\n",
            "  },\n",
            "   {\n",
            "    \"timecode\": \"00:02\",\n",
            "    \"text\": \"The scene transitions indoors, the camera moving quickly through what appears to be a sleeping area. There are beds with blankets and cushions. The room appears to be lit from inside.\"\n",
            "  }\n",
            "]\n",
            "```\n"
          ]
        }
      ]
    }
  ]
}
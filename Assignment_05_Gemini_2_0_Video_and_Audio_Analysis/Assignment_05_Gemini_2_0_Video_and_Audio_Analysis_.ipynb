{
  "nbformat": 4,
  "nbformat_minor": 0,
  "metadata": {
    "colab": {
      "provenance": [],
      "authorship_tag": "ABX9TyNGcn8OXapj4xdLXA+y8TSC",
      "include_colab_link": true
    },
    "kernelspec": {
      "name": "python3",
      "display_name": "Python 3"
    },
    "language_info": {
      "name": "python"
    }
  },
  "cells": [
    {
      "cell_type": "markdown",
      "metadata": {
        "id": "view-in-github",
        "colab_type": "text"
      },
      "source": [
        "<a href=\"https://colab.research.google.com/github/rumorArbaz/Quater_2/blob/main/Assignment_05_Gemini_2_0_Video_and_Audio_Analysis_.ipynb\" target=\"_parent\"><img src=\"https://colab.research.google.com/assets/colab-badge.svg\" alt=\"Open In Colab\"/></a>"
      ]
    },
    {
      "cell_type": "code",
      "execution_count": 1,
      "metadata": {
        "id": "iX-MRfrHAOql"
      },
      "outputs": [],
      "source": [
        "!pip install -U -q google-genai"
      ]
    },
    {
      "cell_type": "code",
      "source": [
        "!pip install gtts -q"
      ],
      "metadata": {
        "id": "M4g5DKCyA5Of"
      },
      "execution_count": 2,
      "outputs": []
    },
    {
      "cell_type": "code",
      "source": [
        "!pip install playsound -q"
      ],
      "metadata": {
        "colab": {
          "base_uri": "https://localhost:8080/"
        },
        "id": "ulbwaF7CA_Uq",
        "outputId": "57c63a92-3edd-49a2-b824-e3a7833a1648"
      },
      "execution_count": 4,
      "outputs": [
        {
          "output_type": "stream",
          "name": "stdout",
          "text": [
            "  Preparing metadata (setup.py) ... \u001b[?25l\u001b[?25hdone\n",
            "  Building wheel for playsound (setup.py) ... \u001b[?25l\u001b[?25hdone\n"
          ]
        }
      ]
    },
    {
      "cell_type": "code",
      "source": [
        "from google.colab import userdata\n",
        "GEMINI_VADIO_API: str = userdata.get('GEMINI_VADIO_API')\n",
        "if(GEMINI_VADIO_API):\n",
        "  print('API KEY FOUND')\n",
        "else:\n",
        "  print('API KEY NOT FOUND')\n"
      ],
      "metadata": {
        "colab": {
          "base_uri": "https://localhost:8080/"
        },
        "id": "pNCspgVDCt4v",
        "outputId": "a837cad3-ba5e-48f7-823c-0c280c65e839"
      },
      "execution_count": 20,
      "outputs": [
        {
          "output_type": "stream",
          "name": "stdout",
          "text": [
            "API KEY FOUND\n"
          ]
        }
      ]
    },
    {
      "cell_type": "code",
      "source": [
        "from google import genai\n",
        "from google.genai import Client\n",
        "\n",
        "client: Client = genai.Client(\n",
        "  api_key=GEMINI_VADIO_API\n",
        ")\n",
        "\n",
        "model: str = \"gemini-2.0-flash-exp\""
      ],
      "metadata": {
        "id": "jChoB7H-DL4X"
      },
      "execution_count": 21,
      "outputs": []
    },
    {
      "cell_type": "code",
      "source": [
        "video_name = \"/content/video clip.mp4\""
      ],
      "metadata": {
        "id": "wpGbcitiEOFS"
      },
      "execution_count": 22,
      "outputs": []
    },
    {
      "cell_type": "code",
      "source": [
        "import time\n",
        "\n",
        "def upload_video(video_name):\n",
        "  video_file = client.files.upload(path = video_name)\n",
        "  while video_file.state == \"pending\":\n",
        "    time.sleep(10)\n",
        "    video_file = client.files.get(name=video_file.name or \"\")\n",
        "\n",
        "  if video_file.state == \"FAILED\":\n",
        "    raise ValueError(video_file.state)\n",
        "  print(f\"Vadio processing complete:\" + (video_file.uri or \"\"))\n",
        "\n",
        "  return video_file\n",
        "\n",
        "my_video = upload_video(video_name)"
      ],
      "metadata": {
        "colab": {
          "base_uri": "https://localhost:8080/"
        },
        "id": "95aulm4aFcjy",
        "outputId": "38251c5c-16a8-4474-fe60-599d38f1f4e4"
      },
      "execution_count": 24,
      "outputs": [
        {
          "output_type": "stream",
          "name": "stdout",
          "text": [
            "Vadio processing complete:https://generativelanguage.googleapis.com/v1beta/files/ey921k7rycgj\n"
          ]
        }
      ]
    },
    {
      "cell_type": "code",
      "source": [
        "from google.genai.types import Content, Part\n",
        "prompt = \"\"\"For each scene in this video, generate caption that discribe the scene with spoken text.\n",
        "Place each caption into an object with timecode of caption vadio.\n",
        "\"\"\"\n",
        "\n",
        "video = my_video\n",
        "\n",
        "response = client.models.generate_content(\n",
        "    model = model,\n",
        "    contents =[\n",
        "        Content(\n",
        "            role= \"user\",\n",
        "            parts= [\n",
        "                Part(text=prompt),\n",
        "                Part.from_uri(file_uri=video.uri or \"\", mime_type=video.mime_type or \"\")\n",
        "            ]\n",
        "               )\n",
        "]\n",
        ")\n",
        "print(response.text)"
      ],
      "metadata": {
        "colab": {
          "base_uri": "https://localhost:8080/"
        },
        "id": "JOCLi6tEGuOz",
        "outputId": "470cfccc-8ee3-4017-c60f-a8d572725901"
      },
      "execution_count": 31,
      "outputs": [
        {
          "output_type": "stream",
          "name": "stdout",
          "text": [
            "```json\n",
            "[\n",
            "  {\n",
            "    \"timecode\": \"00:00\",\n",
            "    \"text\": \"The video begins with a view of an outdoor space at night, decorated with string lights. Several blurred figures can be seen moving about in the background. The camera seems to be moving.\"\n",
            "  },\n",
            "  {\n",
            "    \"timecode\": \"00:01\",\n",
            "    \"text\": \"The camera shifts perspective, still outside, with the string lights overhead. People continue to mill about, though slightly more visible.\"\n",
            "  },\n",
            "   {\n",
            "    \"timecode\": \"00:02\",\n",
            "    \"text\": \"The scene transitions indoors, the camera moving quickly through what appears to be a sleeping area. There are beds with blankets and cushions. The room appears to be lit from inside.\"\n",
            "  }\n",
            "]\n",
            "```\n"
          ]
        }
      ]
    },
    {
      "cell_type": "code",
      "source": [
        "from gtts import gTTS\n",
        "from playsound import playsound\n",
        "from IPython.display import Audio\n",
        "\n",
        "tts = gTTS(text = \"\\\"hey, What do you know about ceer electric car company.\"\n",
        ", lang='en')\n",
        "tts.save(\"test.mp3\")\n",
        "\n",
        "with open(\"output.mp3\", \"wb\") as f:\n",
        "  for chunk in tts.stream():\n",
        "    f.write(chunk)\n",
        "\n",
        "display(Audio(\"output.mp3\", autoplay=True))"
      ],
      "metadata": {
        "colab": {
          "base_uri": "https://localhost:8080/",
          "height": 75
        },
        "id": "hoPW6s6y-VGE",
        "outputId": "99288469-1c30-44d2-9d07-4f96a329bce0"
      },
      "execution_count": 34,
      "outputs": [
        {
          "output_type": "display_data",
          "data": {
            "text/plain": [
              "<IPython.lib.display.Audio object>"
            ],
            "text/html": [
              "\n",
              "                <audio  controls=\"controls\" autoplay=\"autoplay\">\n",
              "                    <source src=\"data:audio/mpeg;base64,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\" type=\"audio/mpeg\" />\n",
              "                    Your browser does not support the audio element.\n",
              "                </audio>\n",
              "              "
            ]
          },
          "metadata": {}
        }
      ]
    }
  ]
}
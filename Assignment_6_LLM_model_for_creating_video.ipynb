{
  "nbformat": 4,
  "nbformat_minor": 0,
  "metadata": {
    "colab": {
      "provenance": [],
      "authorship_tag": "ABX9TyNrvwgLN7r483gWMWXYM1+x",
      "include_colab_link": true
    },
    "kernelspec": {
      "name": "python3",
      "display_name": "Python 3"
    },
    "language_info": {
      "name": "python"
    }
  },
  "cells": [
    {
      "cell_type": "markdown",
      "metadata": {
        "id": "view-in-github",
        "colab_type": "text"
      },
      "source": [
        "<a href=\"https://colab.research.google.com/github/rumorArbaz/Quater_2/blob/main/Assignment_6_LLM_model_for_creating_video.ipynb\" target=\"_parent\"><img src=\"https://colab.research.google.com/assets/colab-badge.svg\" alt=\"Open In Colab\"/></a>"
      ]
    },
    {
      "cell_type": "code",
      "source": [
        "from google.colab import userdata\n",
        "GEMINI_API_KEY = userdata.get('GOOGLE_API_KEY')"
      ],
      "metadata": {
        "id": "vDoXfc0gOReC"
      },
      "execution_count": 1,
      "outputs": []
    },
    {
      "cell_type": "code",
      "source": [
        "!pip install langchain_google_genai -q -U"
      ],
      "metadata": {
        "colab": {
          "base_uri": "https://localhost:8080/"
        },
        "id": "DDBNNaW2O05z",
        "outputId": "0796f50c-a781-4522-db36-526dee0ee62a"
      },
      "execution_count": 2,
      "outputs": [
        {
          "output_type": "stream",
          "name": "stdout",
          "text": [
            "\u001b[?25l   \u001b[90m━━━━━━━━━━━━━━━━━━━━━━━━━━━━━━━━━━━━━━━━\u001b[0m \u001b[32m0.0/41.3 kB\u001b[0m \u001b[31m?\u001b[0m eta \u001b[36m-:--:--\u001b[0m\r\u001b[2K   \u001b[90m━━━━━━━━━━━━━━━━━━━━━━━━━━━━━━━━━━━━━━━━\u001b[0m \u001b[32m41.3/41.3 kB\u001b[0m \u001b[31m1.6 MB/s\u001b[0m eta \u001b[36m0:00:00\u001b[0m\n",
            "\u001b[?25h"
          ]
        }
      ]
    },
    {
      "cell_type": "code",
      "source": [
        "from langchain_google_genai import ChatGoogleGenerativeAI"
      ],
      "metadata": {
        "id": "zvT4vZWRepKN"
      },
      "execution_count": 3,
      "outputs": []
    },
    {
      "cell_type": "code",
      "source": [
        "llm = ChatGoogleGenerativeAI(\n",
        "    api_key = GEMINI_API_KEY,\n",
        "    model = \"gemini-2.0-flash-exp\",\n",
        ")"
      ],
      "metadata": {
        "id": "wamk2MF-SOrK"
      },
      "execution_count": 4,
      "outputs": []
    },
    {
      "cell_type": "code",
      "source": [
        "from google.colab import files\n",
        "uploaded = files.upload()\n",
        "\n",
        "for filename in uploaded.keys():\n",
        "    print(f'Uploaded file: {filename}')\n"
      ],
      "metadata": {
        "colab": {
          "base_uri": "https://localhost:8080/",
          "height": 90
        },
        "id": "yhv2Z6ZyRpIj",
        "outputId": "18152469-285b-4c98-bf43-7d81e890ef05"
      },
      "execution_count": 5,
      "outputs": [
        {
          "output_type": "display_data",
          "data": {
            "text/plain": [
              "<IPython.core.display.HTML object>"
            ],
            "text/html": [
              "\n",
              "     <input type=\"file\" id=\"files-f856bfe3-4d67-4403-a7c8-1db56fde9828\" name=\"files[]\" multiple disabled\n",
              "        style=\"border:none\" />\n",
              "     <output id=\"result-f856bfe3-4d67-4403-a7c8-1db56fde9828\">\n",
              "      Upload widget is only available when the cell has been executed in the\n",
              "      current browser session. Please rerun this cell to enable.\n",
              "      </output>\n",
              "      <script>// Copyright 2017 Google LLC\n",
              "//\n",
              "// Licensed under the Apache License, Version 2.0 (the \"License\");\n",
              "// you may not use this file except in compliance with the License.\n",
              "// You may obtain a copy of the License at\n",
              "//\n",
              "//      http://www.apache.org/licenses/LICENSE-2.0\n",
              "//\n",
              "// Unless required by applicable law or agreed to in writing, software\n",
              "// distributed under the License is distributed on an \"AS IS\" BASIS,\n",
              "// WITHOUT WARRANTIES OR CONDITIONS OF ANY KIND, either express or implied.\n",
              "// See the License for the specific language governing permissions and\n",
              "// limitations under the License.\n",
              "\n",
              "/**\n",
              " * @fileoverview Helpers for google.colab Python module.\n",
              " */\n",
              "(function(scope) {\n",
              "function span(text, styleAttributes = {}) {\n",
              "  const element = document.createElement('span');\n",
              "  element.textContent = text;\n",
              "  for (const key of Object.keys(styleAttributes)) {\n",
              "    element.style[key] = styleAttributes[key];\n",
              "  }\n",
              "  return element;\n",
              "}\n",
              "\n",
              "// Max number of bytes which will be uploaded at a time.\n",
              "const MAX_PAYLOAD_SIZE = 100 * 1024;\n",
              "\n",
              "function _uploadFiles(inputId, outputId) {\n",
              "  const steps = uploadFilesStep(inputId, outputId);\n",
              "  const outputElement = document.getElementById(outputId);\n",
              "  // Cache steps on the outputElement to make it available for the next call\n",
              "  // to uploadFilesContinue from Python.\n",
              "  outputElement.steps = steps;\n",
              "\n",
              "  return _uploadFilesContinue(outputId);\n",
              "}\n",
              "\n",
              "// This is roughly an async generator (not supported in the browser yet),\n",
              "// where there are multiple asynchronous steps and the Python side is going\n",
              "// to poll for completion of each step.\n",
              "// This uses a Promise to block the python side on completion of each step,\n",
              "// then passes the result of the previous step as the input to the next step.\n",
              "function _uploadFilesContinue(outputId) {\n",
              "  const outputElement = document.getElementById(outputId);\n",
              "  const steps = outputElement.steps;\n",
              "\n",
              "  const next = steps.next(outputElement.lastPromiseValue);\n",
              "  return Promise.resolve(next.value.promise).then((value) => {\n",
              "    // Cache the last promise value to make it available to the next\n",
              "    // step of the generator.\n",
              "    outputElement.lastPromiseValue = value;\n",
              "    return next.value.response;\n",
              "  });\n",
              "}\n",
              "\n",
              "/**\n",
              " * Generator function which is called between each async step of the upload\n",
              " * process.\n",
              " * @param {string} inputId Element ID of the input file picker element.\n",
              " * @param {string} outputId Element ID of the output display.\n",
              " * @return {!Iterable<!Object>} Iterable of next steps.\n",
              " */\n",
              "function* uploadFilesStep(inputId, outputId) {\n",
              "  const inputElement = document.getElementById(inputId);\n",
              "  inputElement.disabled = false;\n",
              "\n",
              "  const outputElement = document.getElementById(outputId);\n",
              "  outputElement.innerHTML = '';\n",
              "\n",
              "  const pickedPromise = new Promise((resolve) => {\n",
              "    inputElement.addEventListener('change', (e) => {\n",
              "      resolve(e.target.files);\n",
              "    });\n",
              "  });\n",
              "\n",
              "  const cancel = document.createElement('button');\n",
              "  inputElement.parentElement.appendChild(cancel);\n",
              "  cancel.textContent = 'Cancel upload';\n",
              "  const cancelPromise = new Promise((resolve) => {\n",
              "    cancel.onclick = () => {\n",
              "      resolve(null);\n",
              "    };\n",
              "  });\n",
              "\n",
              "  // Wait for the user to pick the files.\n",
              "  const files = yield {\n",
              "    promise: Promise.race([pickedPromise, cancelPromise]),\n",
              "    response: {\n",
              "      action: 'starting',\n",
              "    }\n",
              "  };\n",
              "\n",
              "  cancel.remove();\n",
              "\n",
              "  // Disable the input element since further picks are not allowed.\n",
              "  inputElement.disabled = true;\n",
              "\n",
              "  if (!files) {\n",
              "    return {\n",
              "      response: {\n",
              "        action: 'complete',\n",
              "      }\n",
              "    };\n",
              "  }\n",
              "\n",
              "  for (const file of files) {\n",
              "    const li = document.createElement('li');\n",
              "    li.append(span(file.name, {fontWeight: 'bold'}));\n",
              "    li.append(span(\n",
              "        `(${file.type || 'n/a'}) - ${file.size} bytes, ` +\n",
              "        `last modified: ${\n",
              "            file.lastModifiedDate ? file.lastModifiedDate.toLocaleDateString() :\n",
              "                                    'n/a'} - `));\n",
              "    const percent = span('0% done');\n",
              "    li.appendChild(percent);\n",
              "\n",
              "    outputElement.appendChild(li);\n",
              "\n",
              "    const fileDataPromise = new Promise((resolve) => {\n",
              "      const reader = new FileReader();\n",
              "      reader.onload = (e) => {\n",
              "        resolve(e.target.result);\n",
              "      };\n",
              "      reader.readAsArrayBuffer(file);\n",
              "    });\n",
              "    // Wait for the data to be ready.\n",
              "    let fileData = yield {\n",
              "      promise: fileDataPromise,\n",
              "      response: {\n",
              "        action: 'continue',\n",
              "      }\n",
              "    };\n",
              "\n",
              "    // Use a chunked sending to avoid message size limits. See b/62115660.\n",
              "    let position = 0;\n",
              "    do {\n",
              "      const length = Math.min(fileData.byteLength - position, MAX_PAYLOAD_SIZE);\n",
              "      const chunk = new Uint8Array(fileData, position, length);\n",
              "      position += length;\n",
              "\n",
              "      const base64 = btoa(String.fromCharCode.apply(null, chunk));\n",
              "      yield {\n",
              "        response: {\n",
              "          action: 'append',\n",
              "          file: file.name,\n",
              "          data: base64,\n",
              "        },\n",
              "      };\n",
              "\n",
              "      let percentDone = fileData.byteLength === 0 ?\n",
              "          100 :\n",
              "          Math.round((position / fileData.byteLength) * 100);\n",
              "      percent.textContent = `${percentDone}% done`;\n",
              "\n",
              "    } while (position < fileData.byteLength);\n",
              "  }\n",
              "\n",
              "  // All done.\n",
              "  yield {\n",
              "    response: {\n",
              "      action: 'complete',\n",
              "    }\n",
              "  };\n",
              "}\n",
              "\n",
              "scope.google = scope.google || {};\n",
              "scope.google.colab = scope.google.colab || {};\n",
              "scope.google.colab._files = {\n",
              "  _uploadFiles,\n",
              "  _uploadFilesContinue,\n",
              "};\n",
              "})(self);\n",
              "</script> "
            ]
          },
          "metadata": {}
        },
        {
          "output_type": "stream",
          "name": "stdout",
          "text": [
            "Saving VEED.video.mp4 to VEED.video.mp4\n",
            "Uploaded file: VEED.video.mp4\n"
          ]
        }
      ]
    },
    {
      "cell_type": "code",
      "source": [
        "from google import genai\n",
        "from google.genai import Client"
      ],
      "metadata": {
        "id": "xO2o4CTzTQg_"
      },
      "execution_count": 6,
      "outputs": []
    },
    {
      "cell_type": "code",
      "source": [
        "client: Client = genai.Client(\n",
        "    api_key=GEMINI_API_KEY,\n",
        ")\n",
        "\n",
        "\n",
        "model: str = \"gemini-2.0-flash-exp\""
      ],
      "metadata": {
        "id": "bvUEnQUgfnwp"
      },
      "execution_count": 7,
      "outputs": []
    },
    {
      "cell_type": "code",
      "source": [
        "import time\n",
        "\n",
        "def upload_video(video_file_name):\n",
        "  video_file = client.files.upload(path=\"/content/VEED.video.mp4\")\n",
        "  while video_file.state == \"PROCESSING\":\n",
        "      print('Waiting for video to be processed.')\n",
        "      time.sleep(10)\n",
        "      video_file = client.files.get(name=video_file.name or \"\")\n",
        "\n",
        "  if video_file.state == \"FAILED\":\n",
        "    raise ValueError(video_file.state)\n",
        "  print(f'Video processing complete: ' + (video_file.uri or \"\"))\n",
        "\n",
        "  return video_file\n",
        "\n",
        "pottery_video = upload_video('Pottery.mp4')"
      ],
      "metadata": {
        "colab": {
          "base_uri": "https://localhost:8080/"
        },
        "id": "umUrAWx5UXEO",
        "outputId": "4f848293-9da2-4c75-e153-f936321bc94e"
      },
      "execution_count": 8,
      "outputs": [
        {
          "output_type": "stream",
          "name": "stdout",
          "text": [
            "Waiting for video to be processed.\n",
            "Video processing complete: https://generativelanguage.googleapis.com/v1beta/files/e1lklcuxn4gu\n"
          ]
        }
      ]
    },
    {
      "cell_type": "code",
      "source": [
        "from IPython.display import Markdown, display"
      ],
      "metadata": {
        "id": "M8972G3OX-GQ"
      },
      "execution_count": 9,
      "outputs": []
    },
    {
      "cell_type": "code",
      "source": [
        "from google.genai.types import Content, Part\n",
        "\n",
        "def generate_video_captions(video):\n",
        "  \"\"\"Generates captions for a video using the Gemini API.\n",
        "\n",
        "  Args:\n",
        "    video: The video file object.\n",
        "\n",
        "  Returns:\n",
        "    A Markdown formatted string containing the captions.\n",
        "  \"\"\"\n",
        "\n",
        "  prompt = \"\"\"For each scene in this video,\n",
        "              generate captions that describe the scene along with any spoken text placed in quotation marks.\n",
        "              Place each caption into an object with the timecode of the caption in the video.\n",
        "           \"\"\"\n",
        "\n",
        "  response = client.models.generate_content(\n",
        "      model=model,\n",
        "      contents=[\n",
        "          Content(\n",
        "              role=\"user\",\n",
        "              parts=[\n",
        "                  Part.from_uri(\n",
        "                      file_uri=video.uri or \"\",\n",
        "                      mime_type=video.mime_type or \"\"),\n",
        "                  ]),\n",
        "          prompt,\n",
        "      ]\n",
        "  )\n",
        "\n",
        "  return response.text # Return the response text\n",
        "\n",
        "# ... (Previous code for uploading the video) ...\n",
        "\n",
        "# Call the function to generate captions\n",
        "captions = generate_video_captions(pottery_video)\n",
        "\n",
        "# Display the captions as Markdown\n",
        "from IPython.display import Markdown, display\n",
        "display(Markdown(captions))"
      ],
      "metadata": {
        "colab": {
          "base_uri": "https://localhost:8080/",
          "height": 1000
        },
        "collapsed": true,
        "id": "5OnawMjLg6AF",
        "outputId": "1c4443e9-487d-4fa5-93ad-97f4474a5a2d"
      },
      "execution_count": 12,
      "outputs": [
        {
          "output_type": "display_data",
          "data": {
            "text/plain": [
              "<IPython.core.display.Markdown object>"
            ],
            "text/markdown": "```json\n[\n  {\n    \"timecode\": \"0:00\",\n    \"caption\": \"An aerial view of a city at dusk, with lights from buildings and cars creating a vibrant scene. The sky is a mix of orange and deep blue, and there are a number of trees lining a street.\"\n  },\n   {\n    \"timecode\": \"0:01\",\n   \"caption\": \"\\\"As the sun dips below the horizon, the city transforms into a dazzling spectacle of light and energy.\\\"\"\n  },\n   {\n    \"timecode\": \"0:07\",\n    \"caption\":\"A stylized image of a futuristic city street with flying cars in the air and on the ground. The sky is a pinkish purple.\"\n   },\n  {\n     \"timecode\":\"0:08\",\n    \"caption\": \"\\\"Flying cars zip through the sky, their sleek designs reflecting the warm hues of sunset.\\\"\"\n  },\n   {\n   \"timecode\":\"0:13\",\n    \"caption\":\"\\\"Vibrant holographic billboards pulse with life, advertising the latest innovations and experiences.\\\"\"\n   },\n  {\n    \"timecode\": \"0:15\",\n   \"caption\": \"A futuristic city scene at night, featuring several tall buildings with illuminated windows, and flying vehicles.\"\n  },\n  {\n    \"timecode\": \"0:17\",\n    \"caption\": \"A futuristic city scene at night, featuring several tall buildings with illuminated windows, and flying vehicles.\"\n  },\n  {\n    \"timecode\": \"0:20\",\n   \"caption\": \"A person with pink hair, wearing a blue jumpsuit with neon green and checkered accents, and a transparent blue face shield stands on steps.  \"\n   },\n{\n     \"timecode\":\"0:21\",\n    \"caption\":\"\\\"On the streets below, people in stylish, futuristic outfits navigate the bustling sidewalks, their laughter blending with the hum of technology.\\\"\"\n },\n {\n   \"timecode\":\"0:29\",\n   \"caption\": \"A close up of the person wearing the face shield.\"\n },\n {\n    \"timecode\": \"0:30\",\n    \"caption\":\"A view of a stylized futuristic city with various buildings, and flying cars in the sky.  The sky is a light blue color.\"\n  },\n  {\n    \"timecode\": \"0:30\",\n   \"caption\":\"\\\"Each corner reveals a new marvel, a robot expertly serving coffee at a chic cafe, where a smiling patron enjoys the moment.\\\"\"\n  },\n  {\n    \"timecode\":\"0:40\",\n     \"caption\": \"A futuristic building scene featuring unique building designs, including one with a curved roof, and several tall wind turbines in the background.\"\n  },\n  {\n    \"timecode\": \"0:41\",\n    \"caption\":\"A futuristic building scene featuring unique building designs, including one with a curved roof, and several tall wind turbines in the background.\"\n  },\n  {\n   \"timecode\":\"0:46\",\n   \"caption\": \"A silhouette of a person against a sunset backdrop, with their arms raised.\"\n  },\n  {\n     \"timecode\":\"0:46\",\n    \"caption\": \"\\\"The air is filled with optimism, and the possibilities are endless.\\\"\"\n   },\n{\n   \"timecode\":\"0:50\",\n   \"caption\": \"An underwater scene with beams of light filtering through the surface.\"\n  },\n  {\n     \"timecode\":\"0:50\",\n    \"caption\":\"\\\"Welcome to the future, where every sunset brings a new dawn of excitement and discovery.\\\"\"\n   }\n]\n```"
          },
          "metadata": {}
        }
      ]
    },
    {
      "cell_type": "code",
      "source": [
        "generate_video_captions(pottery_video)"
      ],
      "metadata": {
        "colab": {
          "base_uri": "https://localhost:8080/",
          "height": 157
        },
        "id": "fsgloIBoX4la",
        "outputId": "5ca038f6-673e-474a-83f5-84acc292aa39"
      },
      "execution_count": 13,
      "outputs": [
        {
          "output_type": "execute_result",
          "data": {
            "text/plain": [
              "'```json\\n[\\n    {\\n        \"timecode\": \"0:00\",\\n        \"caption\": \"An aerial shot of a city at dusk, with lights visible in the windows of buildings and street lights lining the roads. The sun is below the horizon. \\\\\"As the sun dips below the horizon, the city transforms into a dazzling spectacle of light and energy.\\\\\"\"\\n    },\\n {\\n        \"timecode\": \"0:06\",\\n        \"caption\": \"A futuristic city with tall buildings. Many flying cars travel on a multi-level highway. The sky is a vibrant pink and purple. \\\\\"Flying cars zip through the sky. Their sleek designs reflecting the warm hues of sunset.\\\\\"\"\\n   },\\n{\\n       \"timecode\": \"0:13\",\\n      \"caption\": \"Flying cars moving through a futuristic city in a dark night sky. \\\\\"Vibrant holographic billboards pulse with life, advertising the latest innovations and experiences.\\\\\"\"\\n    },\\n{\\n     \"timecode\": \"0:20\",\\n      \"caption\": \"A person wearing a blue jumpsuit, a clear face visor, and pink hair is standing at the bottom of some stairs. \\\\\"On the streets below, people in stylish, futuristic outfits navigate the bustling sidewalks, their laughter blending with the hum of technology.\\\\\"\"\\n    },\\n {\\n        \"timecode\": \"0:29\",\\n        \"caption\": \"A close up of a person wearing a blue jumpsuit, a clear face visor, and pink hair. The person looks at their reflection in their face visor.\"\\n    },\\n{\\n   \"timecode\":\"0:30\",\\n   \"caption\": \"A view of a futuristic city with oddly shaped buildings. \\\\\"Each corner reveals a new marvel, a robot expertly serving coffee at a chic cafe, where a smiling patron enjoys the moment.\\\\\"\"\\n    },\\n{\\n     \"timecode\":\"0:38\",\\n     \"caption\": \"A flying blue sports car is in the air over a futuristic city, including a dark robot in the foreground. \\\\\"This is a world where technology and humanity coexist harmoniously, where every day is an adventure waiting to unfold.\\\\\"\"\\n    },\\n{\\n        \"timecode\": \"0:39\",\\n        \"caption\": \"A daytime view of a futuristic city with buildings with unusual architecture. Trees line the background.\"\\n    },\\n    {\\n        \"timecode\": \"0:45\",\\n        \"caption\": \"A person in a black jacket is standing on a rooftop looking up at the sunset. \\\\\"The air is filled with optimism, and the possibilities are endless.\\\\\"\"\\n    },\\n {\\n        \"timecode\": \"0:50\",\\n        \"caption\": \"A blue ocean with the sun shining from above through the water. \\\\\"Welcome to the future, where every sunset brings a new dawn of excitement and discovery.\\\\\"\"\\n    }\\n]\\n```'"
            ],
            "application/vnd.google.colaboratory.intrinsic+json": {
              "type": "string"
            }
          },
          "metadata": {},
          "execution_count": 13
        }
      ]
    }
  ]
}
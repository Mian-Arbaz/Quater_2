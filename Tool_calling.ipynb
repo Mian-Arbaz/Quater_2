{
  "nbformat": 4,
  "nbformat_minor": 0,
  "metadata": {
    "colab": {
      "provenance": [],
      "authorship_tag": "ABX9TyNyXS0KO28AT8aGvzgZWZ7V",
      "include_colab_link": true
    },
    "kernelspec": {
      "name": "python3",
      "display_name": "Python 3"
    },
    "language_info": {
      "name": "python"
    }
  },
  "cells": [
    {
      "cell_type": "markdown",
      "metadata": {
        "id": "view-in-github",
        "colab_type": "text"
      },
      "source": [
        "<a href=\"https://colab.research.google.com/github/Mian-Arbaz/Quater_2/blob/main/Tool_calling.ipynb\" target=\"_parent\"><img src=\"https://colab.research.google.com/assets/colab-badge.svg\" alt=\"Open In Colab\"/></a>"
      ]
    },
    {
      "cell_type": "code",
      "execution_count": null,
      "metadata": {
        "id": "f-n5aQ6IkWhz"
      },
      "outputs": [],
      "source": [
        "!pip install langchain google-generativeai -q\n",
        "!pip install langchain_google_genai -q"
      ]
    },
    {
      "cell_type": "code",
      "source": [
        "from google.colab import userdata\n",
        "GOOGLE_API_KEY = userdata.get('GOOGLE_API_KEY')"
      ],
      "metadata": {
        "id": "jDtEpEYNrt6a"
      },
      "execution_count": null,
      "outputs": []
    },
    {
      "cell_type": "code",
      "source": [
        "from langchain_core.tools import tool\n",
        "import requests\n",
        "@tool\n",
        "def calculator(expression: str) -> float:\n",
        "    \"\"\"\n",
        "    Evaluate a mathematical expression and return the result.\n",
        "\n",
        "    Parameters:\n",
        "    expression (str): A string containing the mathematical expression to evaluate.\n",
        "\n",
        "    Returns:\n",
        "    float: The result of the evaluated expression.\n",
        "\n",
        "    Examples:\n",
        "    >>> evaluate_expression(\"2 + 3 * 4\")\n",
        "    14.0\n",
        "    >>> evaluate_expression(\"(10 / 2) + 8\")\n",
        "    13.0\n",
        "\n",
        "    Note:\n",
        "    - This function uses Python's `eval()` to calculate the result.\n",
        "    - Ensure the input is sanitized to avoid malicious code execution.\n",
        "    \"\"\"\n",
        "    try:\n",
        "        # Evaluate the expression safely\n",
        "        result = eval(expression, {\"__builtins__\": {}})\n",
        "        return float(result)\n",
        "    except Exception as e:\n",
        "        print(f\"Error evaluating expression: {e}\")\n",
        "        return None\n",
        "\n",
        "\n",
        "@tool\n",
        "def get_stock_price(symbol: str) -> str:\n",
        "    \"\"\"Fetches the current stock price of a company based on its stock symbol using the Polygon API.\n",
        "\n",
        "    Args:\n",
        "        symbol (str): The stock symbol of the company (e.g., 'AAPL' for Apple, 'GOOGL' for Google).\n",
        "\n",
        "    Returns:\n",
        "        str: A message containing the current stock price of the company.\n",
        "\n",
        "    Raises:\n",
        "        HTTPError: If the HTTP request to the stock API fails (e.g., 404 or 500 status).\n",
        "        RequestException: If there is an issue with the request itself (e.g., connection error).\n",
        "        Exception: For any other unexpected errors during the execution of the function.\n",
        "\n",
        "    \"\"\"\n",
        "    api_key = \"bbbbc022e3af4fde93f1ff4f7d6a6ef1\"  # Replace this with your actual secret API key from Polygon\n",
        "    url = f\"https://api.polygon.io/v2/aggs/ticker/{symbol}/prev\"  # Polygon endpoint for previous close price\n",
        "\n",
        "    try:\n",
        "        # Send a GET request with the API key\n",
        "        response = requests.get(url, params={'apiKey': api_key})\n",
        "        response.raise_for_status()  # Raise HTTPError for bad responses (4xx, 5xx)\n",
        "\n",
        "        # Assuming the data contains 'close' in the response for the last closing price\n",
        "        data = response.json()\n",
        "        price = data.get('results', [{}])[0].get('c')  # 'c' is the closing price\n",
        "\n",
        "        if price:\n",
        "            return f\"Tool used: get_stock_price\\n get_stock_price tool is used to find The current price of {symbol} is ${price}\"\n",
        "        else:\n",
        "            return f\"Error: Could not retrieve stock data for {symbol}.\\nTool used: get_stock_price\"\n",
        "\n",
        "    except requests.exceptions.HTTPError as http_err:\n",
        "        return f\"HTTP error occurred: {http_err}\\nTool used: get_stock_price\"\n",
        "    except requests.exceptions.RequestException as req_err:\n",
        "        return f\"Request error occurred: {req_err}\\nTool used: get_stock_price\"\n",
        "    except Exception as err:\n",
        "        return f\"An unexpected error occurred: {err}\\nTool used: get_stock_price\"\n"
      ],
      "metadata": {
        "id": "fbR5lKzx0Dmg"
      },
      "execution_count": null,
      "outputs": []
    },
    {
      "cell_type": "code",
      "source": [
        "from langchain_core.tools import tool"
      ],
      "metadata": {
        "id": "D-b4Tn8r20e7"
      },
      "execution_count": null,
      "outputs": []
    },
    {
      "cell_type": "code",
      "source": [
        "tools = [calculator,get_stock_price]"
      ],
      "metadata": {
        "id": "VnFcfMGu0bqc"
      },
      "execution_count": null,
      "outputs": []
    },
    {
      "cell_type": "code",
      "source": [
        "from langchain_google_genai import ChatGoogleGenerativeAI\n",
        "llm = ChatGoogleGenerativeAI(\n",
        "    model = \"gemini-2.0-flash-exp\",\n",
        "    api_key = GOOGLE_API_KEY\n",
        ")"
      ],
      "metadata": {
        "id": "sV-VbaLE0f-V"
      },
      "execution_count": null,
      "outputs": []
    },
    {
      "cell_type": "code",
      "source": [
        "from langchain.agents import initialize_agent, AgentType"
      ],
      "metadata": {
        "id": "gRjht73h0khY"
      },
      "execution_count": null,
      "outputs": []
    },
    {
      "cell_type": "code",
      "source": [
        "agent = initialize_agent(\n",
        "    tools = tools,\n",
        "    llm = llm,\n",
        "    agent = AgentType.STRUCTURED_CHAT_ZERO_SHOT_REACT_DESCRIPTION,\n",
        "    verbose = True\n",
        ")"
      ],
      "metadata": {
        "id": "0IDPoxaQubjt"
      },
      "execution_count": null,
      "outputs": []
    },
    {
      "cell_type": "code",
      "source": [
        "response = agent.invoke({\"input\" : \"What is 5 multiply by 5\"})\n",
        "response[\"output\"]"
      ],
      "metadata": {
        "colab": {
          "base_uri": "https://localhost:8080/",
          "height": 435
        },
        "collapsed": true,
        "id": "GvinhS6ovX7T",
        "outputId": "028c6964-c678-4be1-8e17-78205bb802fa"
      },
      "execution_count": null,
      "outputs": [
        {
          "output_type": "stream",
          "name": "stdout",
          "text": [
            "\n",
            "\n",
            "\u001b[1m> Entering new AgentExecutor chain...\u001b[0m\n",
            "\u001b[32;1m\u001b[1;3mAction:\n",
            "```\n",
            "{\n",
            "  \"action\": \"calculator\",\n",
            "  \"action_input\": {\n",
            "    \"expression\": \"5 * 5\"\n",
            "  }\n",
            "}\n",
            "```\u001b[0m\n",
            "Observation: \u001b[36;1m\u001b[1;3m25.0\u001b[0m\n",
            "Thought:\u001b[32;1m\u001b[1;3mI have the answer.\n",
            "Action:\n",
            "```\n",
            "{\n",
            "  \"action\": \"Final Answer\",\n",
            "  \"action_input\": \"5 multiplied by 5 is 25.\"\n",
            "}\n",
            "```\u001b[0m\n",
            "\n",
            "\u001b[1m> Finished chain.\u001b[0m\n"
          ]
        },
        {
          "output_type": "execute_result",
          "data": {
            "text/plain": [
              "'5 multiplied by 5 is 25.'"
            ],
            "application/vnd.google.colaboratory.intrinsic+json": {
              "type": "string"
            }
          },
          "metadata": {},
          "execution_count": 67
        }
      ]
    }
  ]
}